{
 "cells": [
  {
   "cell_type": "code",
   "execution_count": 15,
   "id": "ca1460a5-f574-48e2-bdc6-da8c766885fe",
   "metadata": {},
   "outputs": [],
   "source": [
    "from sklearn.feature_extraction.text import CountVectorizer\n",
    "import numpy as np\n",
    "import pandas as pd\n",
    "from sklearn.metrics import accuracy_score,confusion_matrix\n",
    "import re\n",
    "from nltk.corpus import stopwords\n",
    "from sklearn.preprocessing import LabelEncoder\n",
    "from sklearn.model_selection import train_test_split\n",
    "import string"
   ]
  },
  {
   "cell_type": "code",
   "execution_count": 20,
   "id": "28c8ab25-4aaa-4bd5-bfcd-0d0465cc402c",
   "metadata": {},
   "outputs": [
    {
     "data": {
      "text/html": [
       "<div>\n",
       "<style scoped>\n",
       "    .dataframe tbody tr th:only-of-type {\n",
       "        vertical-align: middle;\n",
       "    }\n",
       "\n",
       "    .dataframe tbody tr th {\n",
       "        vertical-align: top;\n",
       "    }\n",
       "\n",
       "    .dataframe thead th {\n",
       "        text-align: right;\n",
       "    }\n",
       "</style>\n",
       "<table border=\"1\" class=\"dataframe\">\n",
       "  <thead>\n",
       "    <tr style=\"text-align: right;\">\n",
       "      <th></th>\n",
       "      <th>sentiment</th>\n",
       "      <th>text</th>\n",
       "    </tr>\n",
       "  </thead>\n",
       "  <tbody>\n",
       "    <tr>\n",
       "      <th>0</th>\n",
       "      <td>sad</td>\n",
       "      <td>agree the poor in india are treated badly thei...</td>\n",
       "    </tr>\n",
       "    <tr>\n",
       "      <th>1</th>\n",
       "      <td>joy</td>\n",
       "      <td>if only i could have spent the with this cutie...</td>\n",
       "    </tr>\n",
       "    <tr>\n",
       "      <th>2</th>\n",
       "      <td>joy</td>\n",
       "      <td>will nature conservation remain a priority in ...</td>\n",
       "    </tr>\n",
       "    <tr>\n",
       "      <th>3</th>\n",
       "      <td>sad</td>\n",
       "      <td>coronavirus disappearing in italy show this to...</td>\n",
       "    </tr>\n",
       "    <tr>\n",
       "      <th>4</th>\n",
       "      <td>sad</td>\n",
       "      <td>uk records lowest daily virus death toll since...</td>\n",
       "    </tr>\n",
       "    <tr>\n",
       "      <th>...</th>\n",
       "      <td>...</td>\n",
       "      <td>...</td>\n",
       "    </tr>\n",
       "    <tr>\n",
       "      <th>3085</th>\n",
       "      <td>sad</td>\n",
       "      <td>today at 02 30pm a 54 year old bangladeshi mal...</td>\n",
       "    </tr>\n",
       "    <tr>\n",
       "      <th>3086</th>\n",
       "      <td>anger</td>\n",
       "      <td>corona virus i implore that you cease activity...</td>\n",
       "    </tr>\n",
       "    <tr>\n",
       "      <th>3087</th>\n",
       "      <td>joy</td>\n",
       "      <td>issa date once lockdown ends inshaallah (and c...</td>\n",
       "    </tr>\n",
       "    <tr>\n",
       "      <th>3088</th>\n",
       "      <td>sad</td>\n",
       "      <td>the death toll due to covid 19 rose to 31 in j...</td>\n",
       "    </tr>\n",
       "    <tr>\n",
       "      <th>3089</th>\n",
       "      <td>sad</td>\n",
       "      <td>the rates are become barrier for poor people t...</td>\n",
       "    </tr>\n",
       "  </tbody>\n",
       "</table>\n",
       "<p>3090 rows × 2 columns</p>\n",
       "</div>"
      ],
      "text/plain": [
       "     sentiment                                               text\n",
       "0          sad  agree the poor in india are treated badly thei...\n",
       "1          joy  if only i could have spent the with this cutie...\n",
       "2          joy  will nature conservation remain a priority in ...\n",
       "3          sad  coronavirus disappearing in italy show this to...\n",
       "4          sad  uk records lowest daily virus death toll since...\n",
       "...        ...                                                ...\n",
       "3085       sad  today at 02 30pm a 54 year old bangladeshi mal...\n",
       "3086     anger  corona virus i implore that you cease activity...\n",
       "3087       joy  issa date once lockdown ends inshaallah (and c...\n",
       "3088       sad  the death toll due to covid 19 rose to 31 in j...\n",
       "3089       sad  the rates are become barrier for poor people t...\n",
       "\n",
       "[3090 rows x 2 columns]"
      ]
     },
     "execution_count": 20,
     "metadata": {},
     "output_type": "execute_result"
    }
   ],
   "source": [
    "df = pd.read_csv('finalSentimentdata2.csv')\n",
    "df = df.drop(columns=['Unnamed: 0'])\n",
    "df"
   ]
  },
  {
   "cell_type": "code",
   "execution_count": 21,
   "id": "0eb4fbc0-be40-4d54-a262-2192e3eea6dd",
   "metadata": {},
   "outputs": [
    {
     "data": {
      "text/plain": [
       "42"
      ]
     },
     "execution_count": 21,
     "metadata": {},
     "output_type": "execute_result"
    }
   ],
   "source": [
    "df.duplicated().sum()"
   ]
  },
  {
   "cell_type": "code",
   "execution_count": 22,
   "id": "bbc754b0-92b3-4e37-990d-6c09a3d4a7a0",
   "metadata": {},
   "outputs": [],
   "source": [
    "df.drop_duplicates(inplace=True)"
   ]
  },
  {
   "cell_type": "code",
   "execution_count": 23,
   "id": "7d0a1924-3f48-45b4-aee2-5bcf2c761f1e",
   "metadata": {},
   "outputs": [
    {
     "data": {
      "text/plain": [
       "sentiment\n",
       "fear     796\n",
       "sad      770\n",
       "anger    766\n",
       "joy      716\n",
       "Name: count, dtype: int64"
      ]
     },
     "execution_count": 23,
     "metadata": {},
     "output_type": "execute_result"
    }
   ],
   "source": [
    "num_values = df['sentiment'].value_counts()\n",
    "num_values"
   ]
  },
  {
   "cell_type": "code",
   "execution_count": 24,
   "id": "9e965377-3eee-4741-b90d-64ee045b8aba",
   "metadata": {},
   "outputs": [
    {
     "name": "stdout",
     "output_type": "stream",
     "text": [
      "text column name: text\n",
      "Clean dataset's text. started with 3048 rows, after cleaning: 3046\n"
     ]
    }
   ],
   "source": [
    "def remove_tags(raw_text):\n",
    "    cleaned_text = re.sub(re.compile('<.*?>'), '', raw_text)\n",
    "    return cleaned_text\n",
    "    \n",
    "\n",
    "def clean_text_column(df, text_col_name):\n",
    "    \"\"\"Clean the text column by removing rows with empty text while retaining specific symbols (!, ?, .).\"\"\"\n",
    "    # Drop rows with missing or empty text\n",
    "    start_len = len(df)\n",
    "    df = df[df[text_col_name].notnull()]  # Remove NaN values\n",
    "    df = df[df[text_col_name].str.strip().astype(bool)]  # Remove empty strings\n",
    "\n",
    "    # Clean text by removing unusual symbols, non english text, except !, ?, .\n",
    "    def clean_text(text):\n",
    "        text = text.lower()  # Convert to lowercase\n",
    "        text = re.sub(r\"^[-a-zA-Z0-9@:%._\\\\+~#=]{1,256}\\\\.[a-zA-Z0-9()]{1,6}\\\\b(?:[-a-zA-Z0-9()@:%_\\\\+.~#?&\\\\/=]*)$\", '', text, flags=re.MULTILINE)  # Remove URLs\n",
    "        text = re.sub(r'[^a-zA-Z0-9\\s!?.,]', '', text)  # Remove non-alphanumeric characters except !, ?, .\n",
    "        text = re.sub(r'\\s+', ' ', text)  # Replace multiple spaces with a single space\n",
    "        return text.strip()  # Strip leading/trailing spaces\n",
    "\n",
    "    df[text_col_name] = df[text_col_name].apply(clean_text)\n",
    "\n",
    "    # Define a function to filter out rows with insufficient content\n",
    "    def has_valid_content(text):\n",
    "        # Remove rows that only contain symbols like !, ?, or .\n",
    "        if re.fullmatch(r'[!?.,\\s]*', text):\n",
    "            return False\n",
    "        # Removes rows with less than 4 chars\n",
    "        if len(text.strip()) < 4:\n",
    "            return False\n",
    "        return True\n",
    "\n",
    "    # Apply the filter\n",
    "    df = df[df[text_col_name].apply(has_valid_content)]\n",
    "    cur_len = len(df)\n",
    "    print(f\"Clean dataset's text. started with {start_len} rows, after cleaning: {cur_len}\")\n",
    "    return df\n",
    "\n",
    "text_col_name = 'text'\n",
    "\n",
    "# Remove HTML tags\n",
    "df[text_col_name] = df[text_col_name].apply(remove_tags)\n",
    "\n",
    "# Clean text column\n",
    "print(f'text column name: {text_col_name}')\n",
    "df = clean_text_column(df, text_col_name)\n",
    "\n",
    "# Disabled stopwords removal\n",
    "# sw_list = stopwords.words('english')\n",
    "# df['review'] = df['review'].apply(lambda x: [item for item in x.split() if item not in sw_list]).apply(lambda x:\" \".join(x))"
   ]
  },
  {
   "cell_type": "code",
   "execution_count": 26,
   "id": "36c98fb1-7fce-45ce-8c87-6242335f5e5d",
   "metadata": {},
   "outputs": [],
   "source": [
    "label_mapping = {'sad': 0, 'joy': 1, 'fear': 2, 'anger': 3}\n",
    "df['sentiment_label'] = df['sentiment']\n",
    "df['sentiment'] = df['sentiment'].map(label_mapping)"
   ]
  },
  {
   "cell_type": "code",
   "execution_count": 27,
   "id": "414d9752-48c0-453e-a0ad-da2422e166fa",
   "metadata": {},
   "outputs": [
    {
     "data": {
      "text/html": [
       "<div>\n",
       "<style scoped>\n",
       "    .dataframe tbody tr th:only-of-type {\n",
       "        vertical-align: middle;\n",
       "    }\n",
       "\n",
       "    .dataframe tbody tr th {\n",
       "        vertical-align: top;\n",
       "    }\n",
       "\n",
       "    .dataframe thead th {\n",
       "        text-align: right;\n",
       "    }\n",
       "</style>\n",
       "<table border=\"1\" class=\"dataframe\">\n",
       "  <thead>\n",
       "    <tr style=\"text-align: right;\">\n",
       "      <th></th>\n",
       "      <th>sentiment</th>\n",
       "      <th>text</th>\n",
       "      <th>sentiment_label</th>\n",
       "    </tr>\n",
       "  </thead>\n",
       "  <tbody>\n",
       "    <tr>\n",
       "      <th>0</th>\n",
       "      <td>0</td>\n",
       "      <td>agree the poor in india are treated badly thei...</td>\n",
       "      <td>sad</td>\n",
       "    </tr>\n",
       "    <tr>\n",
       "      <th>1</th>\n",
       "      <td>1</td>\n",
       "      <td>if only i could have spent the with this cutie...</td>\n",
       "      <td>joy</td>\n",
       "    </tr>\n",
       "    <tr>\n",
       "      <th>2</th>\n",
       "      <td>1</td>\n",
       "      <td>will nature conservation remain a priority in ...</td>\n",
       "      <td>joy</td>\n",
       "    </tr>\n",
       "    <tr>\n",
       "      <th>3</th>\n",
       "      <td>0</td>\n",
       "      <td>coronavirus disappearing in italy show this to...</td>\n",
       "      <td>sad</td>\n",
       "    </tr>\n",
       "    <tr>\n",
       "      <th>4</th>\n",
       "      <td>0</td>\n",
       "      <td>uk records lowest daily virus death toll since...</td>\n",
       "      <td>sad</td>\n",
       "    </tr>\n",
       "    <tr>\n",
       "      <th>...</th>\n",
       "      <td>...</td>\n",
       "      <td>...</td>\n",
       "      <td>...</td>\n",
       "    </tr>\n",
       "    <tr>\n",
       "      <th>3084</th>\n",
       "      <td>3</td>\n",
       "      <td>grumpy or dopey who wins the tonight by scarin...</td>\n",
       "      <td>anger</td>\n",
       "    </tr>\n",
       "    <tr>\n",
       "      <th>3086</th>\n",
       "      <td>3</td>\n",
       "      <td>corona virus i implore that you cease activity...</td>\n",
       "      <td>anger</td>\n",
       "    </tr>\n",
       "    <tr>\n",
       "      <th>3087</th>\n",
       "      <td>1</td>\n",
       "      <td>issa date once lockdown ends inshaallah and co...</td>\n",
       "      <td>joy</td>\n",
       "    </tr>\n",
       "    <tr>\n",
       "      <th>3088</th>\n",
       "      <td>0</td>\n",
       "      <td>the death toll due to covid 19 rose to 31 in j...</td>\n",
       "      <td>sad</td>\n",
       "    </tr>\n",
       "    <tr>\n",
       "      <th>3089</th>\n",
       "      <td>0</td>\n",
       "      <td>the rates are become barrier for poor people t...</td>\n",
       "      <td>sad</td>\n",
       "    </tr>\n",
       "  </tbody>\n",
       "</table>\n",
       "<p>3046 rows × 3 columns</p>\n",
       "</div>"
      ],
      "text/plain": [
       "      sentiment                                               text  \\\n",
       "0             0  agree the poor in india are treated badly thei...   \n",
       "1             1  if only i could have spent the with this cutie...   \n",
       "2             1  will nature conservation remain a priority in ...   \n",
       "3             0  coronavirus disappearing in italy show this to...   \n",
       "4             0  uk records lowest daily virus death toll since...   \n",
       "...         ...                                                ...   \n",
       "3084          3  grumpy or dopey who wins the tonight by scarin...   \n",
       "3086          3  corona virus i implore that you cease activity...   \n",
       "3087          1  issa date once lockdown ends inshaallah and co...   \n",
       "3088          0  the death toll due to covid 19 rose to 31 in j...   \n",
       "3089          0  the rates are become barrier for poor people t...   \n",
       "\n",
       "     sentiment_label  \n",
       "0                sad  \n",
       "1                joy  \n",
       "2                joy  \n",
       "3                sad  \n",
       "4                sad  \n",
       "...              ...  \n",
       "3084           anger  \n",
       "3086           anger  \n",
       "3087             joy  \n",
       "3088             sad  \n",
       "3089             sad  \n",
       "\n",
       "[3046 rows x 3 columns]"
      ]
     },
     "execution_count": 27,
     "metadata": {},
     "output_type": "execute_result"
    }
   ],
   "source": [
    "df"
   ]
  },
  {
   "cell_type": "code",
   "execution_count": 28,
   "id": "ded8ca0c-ad38-4412-801e-5630574bdb34",
   "metadata": {},
   "outputs": [],
   "source": [
    "df.to_csv(\"preproccessed_finalSentimentdata2.csv\", index=False)"
   ]
  },
  {
   "cell_type": "code",
   "execution_count": null,
   "id": "067fd4d3-c237-4b07-84e8-aa3b023f66b7",
   "metadata": {},
   "outputs": [],
   "source": []
  }
 ],
 "metadata": {
  "kernelspec": {
   "display_name": "Python 3 (ipykernel)",
   "language": "python",
   "name": "python3"
  },
  "language_info": {
   "codemirror_mode": {
    "name": "ipython",
    "version": 3
   },
   "file_extension": ".py",
   "mimetype": "text/x-python",
   "name": "python",
   "nbconvert_exporter": "python",
   "pygments_lexer": "ipython3",
   "version": "3.11.7"
  }
 },
 "nbformat": 4,
 "nbformat_minor": 5
}
